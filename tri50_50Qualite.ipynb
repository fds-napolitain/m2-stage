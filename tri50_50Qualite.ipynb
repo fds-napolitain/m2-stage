{
 "cells": [
  {
   "cell_type": "code",
   "execution_count": 9,
   "metadata": {
    "collapsed": true,
    "pycharm": {
     "name": "#%%\n"
    }
   },
   "outputs": [],
   "source": [
    "import sys, os\n",
    "from os import path\n",
    "import shutil\n",
    "import random\n",
    "import time\n",
    "import csv\n",
    "import time\n",
    "from PIL import Image\n",
    "import numpy as np"
   ]
  },
  {
   "cell_type": "code",
   "execution_count": 2,
   "outputs": [],
   "source": [
    "sys.path.insert(1, os.getcwd())  # rajoute dans le path le dossier de script\n",
    "\n",
    "sys.argv = [\"rien\", \"metadata/metadata_portraits.csv\",\n",
    "            \"datasets/BASE DE DONNEE PORTRAITS\",\n",
    "            \"datasets/Qualite\", 1, 20\n",
    "            ]\n",
    "\n",
    "metadata = sys.argv[1]\n",
    "list_of_dictionaries = []"
   ],
   "metadata": {
    "collapsed": false,
    "pycharm": {
     "name": "#%%\n"
    }
   }
  },
  {
   "cell_type": "code",
   "execution_count": 3,
   "outputs": [],
   "source": [
    "### lister des dictionnaires comprenant le nom de l'image et la classe \"FaceQual\" :\n",
    "\n",
    "def parse_csv_metadata(metadata):\n",
    "    with open(metadata) as f:\n",
    "        header = next(f)\n",
    "        if header is not None:\n",
    "            i = 0\n",
    "            for line in f.readlines():\n",
    "                # print(line)\n",
    "                data = line.split(',')\n",
    "                if len(data) > 15:\n",
    "                    row_contents = {'filename': data[0].strip(), 'FaceQual': data[15].strip()}\n",
    "                    list_of_dictionaries.append(row_contents)\n",
    "                i = i + 1\n",
    "                # print(row_contents)\n",
    "                # print(i)\n",
    "\n",
    "            return list_of_dictionaries"
   ],
   "metadata": {
    "collapsed": false,
    "pycharm": {
     "name": "#%%\n"
    }
   }
  },
  {
   "cell_type": "code",
   "execution_count": 4,
   "outputs": [],
   "source": [
    "dico = parse_csv_metadata(metadata)"
   ],
   "metadata": {
    "collapsed": false,
    "pycharm": {
     "name": "#%%\n"
    }
   }
  },
  {
   "cell_type": "code",
   "execution_count": 13,
   "outputs": [],
   "source": [
    "train, test = np.split(dico, [int(len(dico)*0.8)])"
   ],
   "metadata": {
    "collapsed": false,
    "pycharm": {
     "name": "#%%\n"
    }
   }
  },
  {
   "cell_type": "code",
   "execution_count": 14,
   "outputs": [
    {
     "name": "stdout",
     "output_type": "stream",
     "text": [
      "16292 4073\n"
     ]
    }
   ],
   "source": [
    "print(len(train), len(test))"
   ],
   "metadata": {
    "collapsed": false,
    "pycharm": {
     "name": "#%%\n"
    }
   }
  },
  {
   "cell_type": "code",
   "execution_count": 15,
   "outputs": [
    {
     "name": "stdout",
     "output_type": "stream",
     "text": [
      "FaceQual0 :  248\n",
      "FaceQual1 :  1184\n",
      "FaceQual2 :  9241\n",
      "FaceQual3 :  4166\n"
     ]
    }
   ],
   "source": [
    "FaceQual0 = []\n",
    "FaceQual1 = []\n",
    "FaceQual2 = []\n",
    "FaceQual3 = []\n",
    "\n",
    "### Séparer les différentes FaceQual :\n",
    "\n",
    "for element in train:\n",
    "    if \"FaceQual0\" in element['FaceQual']:\n",
    "        FaceQual0.append(element['filename'])\n",
    "    elif \"FaceQual1\" in element['FaceQual']:\n",
    "        FaceQual1.append(element['filename'])\n",
    "    elif \"FaceQual2\" in element['FaceQual']:\n",
    "        FaceQual2.append(element['filename'])\n",
    "    elif \"FaceQual3\" in element['FaceQual']:\n",
    "        FaceQual3.append(element['filename'])\n",
    "\n",
    "\n",
    "###Récupérer aléatoirement autant de dictionnaires de chaque liste que le quadruple de \"FaceQual0\" :\n",
    "\"\"\"\n",
    "FaceQual1 = random.sample(FaceQual1, len(FaceQual0) * 4)\n",
    "FaceQual2 = random.sample(FaceQual2, len(FaceQual0) * 4)\n",
    "FaceQual3 = random.sample(FaceQual3, len(FaceQual0) * 4)\n",
    "\"\"\"\n",
    "\n",
    "# copy_image_augment(FaceQual0, dirFaceQual0, 'FaceQual0')\n",
    "\n",
    "print(\"FaceQual0 : \", len(FaceQual0))\n",
    "print(\"FaceQual1 : \", len(FaceQual1))\n",
    "print(\"FaceQual2 : \", len(FaceQual2))\n",
    "print(\"FaceQual3 : \", len(FaceQual3))\n",
    "\n",
    "###Copier les images correspondant à la liste de dictionnaires depuis un dossier source, vers un dossier cible :\n",
    "\n",
    "def copy_image_to_set(images_list, src, dirtvt, name):\n",
    "    if not os.path.exists(dirtvt):\n",
    "        os.makedirs(dirtvt)\n",
    "    #    widgets=[' [', progressbar.Percentage(), '] ',progressbar.Bar(),' (', progressbar.ETA(), ') ',]\n",
    "    #    bar = progressbar.ProgressBar(maxval=len(images_list),widgets=widgets).start()\n",
    "    i = 0\n",
    "    print('Copying {} set.....'.format(name))\n",
    "    for root, dirs, files in os.walk(src):\n",
    "        # print('r:',root, 'd:',dirs, 'f:',files)\n",
    "        for _file in files:\n",
    "            if _file in images_list:\n",
    "                # If we find it, notify and copy it to NewPath\n",
    "                dirfile = os.path.join(root, _file)\n",
    "                print('Found file in: ', dirfile)\n",
    "                shutil.copy(dirfile, dirtvt)\n",
    "                i = i + 1\n",
    "    #            bar.update(i)\n",
    "    #    bar.finish()\n",
    "    print('\\n', i, 'images in', name, 'set')\n",
    "    print('\\n\\n')\n",
    "\n",
    "\n",
    "\n",
    "def copy_image_augment(images_list, dirtvt, name):\n",
    "    #    widgets=[' [', progressbar.Percentage(), '] ',progressbar.Bar(),' (', progressbar.ETA(), ') ',]\n",
    "    #    bar = progressbar.ProgressBar(maxval=len(images_list),widgets=widgets).start()\n",
    "    i = 0\n",
    "    print('Copying {} set.....'.format(name))\n",
    "    for root, dirs, files in os.walk(dirtvt):\n",
    "        # print('r:',root, 'd:',dirs, 'f:',files)\n",
    "        for _file in files:\n",
    "            if _file in images_list:\n",
    "                # If we find it, notify and copy it to NewPath\n",
    "                dirfile = os.path.join(root, _file)\n",
    "                print('Found file in: ', dirfile)\n",
    "                namecopy = \"Copie\" + str(i) + \".jpg\"\n",
    "                namecopy = os.path.join(dirtvt, namecopy)\n",
    "                shutil.copy(dirfile, namecopy)\n",
    "                img = Image.open(namecopy).transpose(Image.FLIP_LEFT_RIGHT)\n",
    "                img.save(namecopy, \"JPEG\")\n",
    "                i = i + 1\n",
    "\n",
    "                namecopy = \"Copie\" + str(i) + \".jpg\"\n",
    "                namecopy = os.path.join(dirtvt, namecopy)\n",
    "                shutil.copy(dirfile, namecopy)\n",
    "                i = i + 1\n",
    "\n",
    "                namecopy = \"Copie\" + str(i) + \".jpg\"\n",
    "                namecopy = os.path.join(dirtvt, namecopy)\n",
    "                shutil.copy(dirfile, namecopy)\n",
    "                i = i + 1\n",
    "    #            bar.update(i)\n",
    "    #    bar.finish()\n",
    "    print('\\n', i, 'images in', name, 'set')\n",
    "    print('\\n\\n')\n"
   ],
   "metadata": {
    "collapsed": false,
    "pycharm": {
     "name": "#%%\n"
    }
   }
  },
  {
   "cell_type": "code",
   "execution_count": 16,
   "outputs": [
    {
     "name": "stdout",
     "output_type": "stream",
     "text": [
      "FaceQual0 :  6\n",
      "FaceQual1 :  76\n",
      "FaceQual2 :  1955\n",
      "FaceQual3 :  1819\n"
     ]
    }
   ],
   "source": [
    "FaceQual0 = []\n",
    "FaceQual1 = []\n",
    "FaceQual2 = []\n",
    "FaceQual3 = []\n",
    "\n",
    "### Séparer les différentes FaceQual :\n",
    "\n",
    "for element in test:\n",
    "    if \"FaceQual0\" in element['FaceQual']:\n",
    "        FaceQual0.append(element['filename'])\n",
    "    elif \"FaceQual1\" in element['FaceQual']:\n",
    "        FaceQual1.append(element['filename'])\n",
    "    elif \"FaceQual2\" in element['FaceQual']:\n",
    "        FaceQual2.append(element['filename'])\n",
    "    elif \"FaceQual3\" in element['FaceQual']:\n",
    "        FaceQual3.append(element['filename'])\n",
    "\n",
    "\n",
    "###Récupérer aléatoirement autant de dictionnaires de chaque liste que le quadruple de \"FaceQual0\" :\n",
    "\"\"\"\n",
    "FaceQual1 = random.sample(FaceQual1, len(FaceQual0) * 4)\n",
    "FaceQual2 = random.sample(FaceQual2, len(FaceQual0) * 4)\n",
    "FaceQual3 = random.sample(FaceQual3, len(FaceQual0) * 4)\n",
    "\"\"\"\n",
    "\n",
    "# copy_image_augment(FaceQual0, dirFaceQual0, 'FaceQual0')\n",
    "\n",
    "print(\"FaceQual0 : \", len(FaceQual0))\n",
    "print(\"FaceQual1 : \", len(FaceQual1))\n",
    "print(\"FaceQual2 : \", len(FaceQual2))\n",
    "print(\"FaceQual3 : \", len(FaceQual3))\n",
    "\n",
    "###Copier les images correspondant à la liste de dictionnaires depuis un dossier source, vers un dossier cible :\n",
    "\n",
    "def copy_image_to_set(images_list, src, dirtvt, name):\n",
    "    if not os.path.exists(dirtvt):\n",
    "        os.makedirs(dirtvt)\n",
    "    #    widgets=[' [', progressbar.Percentage(), '] ',progressbar.Bar(),' (', progressbar.ETA(), ') ',]\n",
    "    #    bar = progressbar.ProgressBar(maxval=len(images_list),widgets=widgets).start()\n",
    "    i = 0\n",
    "    print('Copying {} set.....'.format(name))\n",
    "    for root, dirs, files in os.walk(src):\n",
    "        # print('r:',root, 'd:',dirs, 'f:',files)\n",
    "        for _file in files:\n",
    "            if _file in images_list:\n",
    "                # If we find it, notify and copy it to NewPath\n",
    "                dirfile = os.path.join(root, _file)\n",
    "                print('Found file in: ', dirfile)\n",
    "                shutil.copy(dirfile, dirtvt)\n",
    "                i = i + 1\n",
    "    #            bar.update(i)\n",
    "    #    bar.finish()\n",
    "    print('\\n', i, 'images in', name, 'set')\n",
    "    print('\\n\\n')\n",
    "\n",
    "\n",
    "\n",
    "def copy_image_augment(images_list, dirtvt, name):\n",
    "    #    widgets=[' [', progressbar.Percentage(), '] ',progressbar.Bar(),' (', progressbar.ETA(), ') ',]\n",
    "    #    bar = progressbar.ProgressBar(maxval=len(images_list),widgets=widgets).start()\n",
    "    i = 0\n",
    "    print('Copying {} set.....'.format(name))\n",
    "    for root, dirs, files in os.walk(dirtvt):\n",
    "        # print('r:',root, 'd:',dirs, 'f:',files)\n",
    "        for _file in files:\n",
    "            if _file in images_list:\n",
    "                # If we find it, notify and copy it to NewPath\n",
    "                dirfile = os.path.join(root, _file)\n",
    "                print('Found file in: ', dirfile)\n",
    "                namecopy = \"Copie\" + str(i) + \".jpg\"\n",
    "                namecopy = os.path.join(dirtvt, namecopy)\n",
    "                shutil.copy(dirfile, namecopy)\n",
    "                img = Image.open(namecopy).transpose(Image.FLIP_LEFT_RIGHT)\n",
    "                img.save(namecopy, \"JPEG\")\n",
    "                i = i + 1\n",
    "\n",
    "                namecopy = \"Copie\" + str(i) + \".jpg\"\n",
    "                namecopy = os.path.join(dirtvt, namecopy)\n",
    "                shutil.copy(dirfile, namecopy)\n",
    "                i = i + 1\n",
    "\n",
    "                namecopy = \"Copie\" + str(i) + \".jpg\"\n",
    "                namecopy = os.path.join(dirtvt, namecopy)\n",
    "                shutil.copy(dirfile, namecopy)\n",
    "                i = i + 1\n",
    "    #            bar.update(i)\n",
    "    #    bar.finish()\n",
    "    print('\\n', i, 'images in', name, 'set')\n",
    "    print('\\n\\n')\n"
   ],
   "metadata": {
    "collapsed": false,
    "pycharm": {
     "name": "#%%\n"
    }
   }
  },
  {
   "cell_type": "code",
   "execution_count": null,
   "outputs": [],
   "source": [],
   "metadata": {
    "collapsed": false,
    "pycharm": {
     "name": "#%%\n"
    }
   }
  }
 ],
 "metadata": {
  "kernelspec": {
   "display_name": "Python 3",
   "language": "python",
   "name": "python3"
  },
  "language_info": {
   "codemirror_mode": {
    "name": "ipython",
    "version": 2
   },
   "file_extension": ".py",
   "mimetype": "text/x-python",
   "name": "python",
   "nbconvert_exporter": "python",
   "pygments_lexer": "ipython2",
   "version": "2.7.6"
  }
 },
 "nbformat": 4,
 "nbformat_minor": 0
}
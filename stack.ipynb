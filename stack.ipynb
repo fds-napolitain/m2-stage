{
 "cells": [
  {
   "cell_type": "code",
   "execution_count": 2,
   "metadata": {
    "collapsed": true
   },
   "outputs": [],
   "source": [
    "import pandas"
   ]
  },
  {
   "cell_type": "markdown",
   "source": [
    "# Correct CSV keywords header\n",
    "Because Keywords is an array, it is split in multiple columns : ['a', 'b'] => ['a' 'b']\n",
    "Suggested fix \"['a', 'b']\""
   ],
   "metadata": {
    "collapsed": false,
    "pycharm": {
     "name": "#%% md\n"
    }
   }
  },
  {
   "cell_type": "code",
   "execution_count": 19,
   "outputs": [],
   "source": [
    "import csv\n",
    "\n",
    "keywords = pandas.read_csv(\"csv/MetaData_ALLdataset_2022.csv\", header=None, usecols=[14, 15, 16, 17, 18, 19], skiprows=1) # load keywords\n",
    "\n",
    "with open(\"csv/MetaData_ALLdataset_2022.csv\", \"r\", newline=\"\") as readerfile:\n",
    "    reader = csv.DictReader(readerfile, delimiter=\",\", quotechar=\"|\")\n",
    "    with open(\"csv/metadata.csv\", \"w\", newline=\"\") as writerfile:\n",
    "        headers = [\"Photo_Name\", \"LeftTopX\", \"LeftTopY\", \"LeftBottomX\", \"LeftBottomY\", \"RightTopX\", \"RightTopY\", \"RightBottomX\", \"RightBottomY\", \"RotAngle\", \"Width\", \"Height\", \"Orientation\", \"Stack\", \"Keywords\"]\n",
    "        writer = csv.DictWriter(writerfile, delimiter=\",\", fieldnames=headers)\n",
    "        writer.writeheader()\n",
    "        i = 0\n",
    "        for row in reader:\n",
    "            writer.writerow({\"Photo_Name\": row[\"Photo_Name\"], \"LeftTopX\": row[\"LeftTopX\"], \"LeftTopY\": row[\"LeftTopY\"], \"LeftBottomX\": row[\"LeftBottomX\"], \"LeftBottomY\": row[\"LeftBottomY\"], \"RightTopX\": row[\"RightTopX\"], \"RightTopY\": row[\"RightTopY\"], \"RightBottomX\": row[\"RightBottomX\"], \"RightBottomY\": row[\"RightBottomY\"], \"RotAngle\": row[\"RotAngle\"], \"Width\": row[\"Width\"], \"Height\": row[\"Height\"], \"Orientation\": row[\"Orientation\"], \"Stack\": row[\"Stack\"], \"Keywords\": \"\\\"\"+keywords[14][i]+\",\"+keywords[15][i]+\",\"+keywords[16][i]+\",\"+keywords[17][i]+\",\"+keywords[18][i]+\",\"+keywords[19][i]+\"\\\"\"})\n",
    "\n"
   ],
   "metadata": {
    "collapsed": false,
    "pycharm": {
     "name": "#%%\n"
    }
   }
  },
  {
   "cell_type": "markdown",
   "source": [
    "# Parse CSV\n"
   ],
   "metadata": {
    "collapsed": false,
    "pycharm": {
     "name": "#%% md\n"
    }
   }
  },
  {
   "cell_type": "code",
   "execution_count": 22,
   "outputs": [],
   "source": [
    "dataset_csv = pandas.read_csv(\"csv/metadata.csv\")"
   ],
   "metadata": {
    "collapsed": false,
    "pycharm": {
     "name": "#%%\n"
    }
   }
  },
  {
   "cell_type": "code",
   "execution_count": 37,
   "outputs": [
    {
     "name": "stdout",
     "output_type": "stream",
     "text": [
      "['20120921', 'id1', 'maljuv (1)', 'ORIGINAL.JPG'] 1\n",
      "['20140710', 'id1', 'maljuv (2)', 'ORIGINAL.JPG'] 2\n",
      "['20150520', 'id1', 'malado (1)', 'ORIGINAL.JPG'] 1\n",
      "['20150520', 'id1', 'malado (2)', 'ORIGINAL.JPG'] 3\n",
      "['20150520', 'id1', 'malado (3)', 'ORIGINAL.JPG'] 2\n",
      "['20150520', 'id1', 'malado (4)', 'ORIGINAL.JPG'] 1\n",
      "['20151121', 'id1', 'malado', 'ORIGINAL.JPG'] 4\n",
      "['20151127', 'id1', 'malado', 'ORIGINAL.JPG'] 4\n",
      "['20160113', 'id1', 'malado', 'ORIGINAL.JPG'] 5\n",
      "['20160405', 'id1', 'malado (1)', 'ORIGINAL.jpg'] 6\n"
     ]
    }
   ],
   "source": [
    "for i in range(10):\n",
    "    print(dataset_csv.Photo_Name[i].split(\"_\"), dataset_csv.Stack[i])"
   ],
   "metadata": {
    "collapsed": false,
    "pycharm": {
     "name": "#%%\n"
    }
   }
  },
  {
   "cell_type": "code",
   "execution_count": 24,
   "outputs": [
    {
     "ename": "AttributeError",
     "evalue": "'Series' object has no attribute 'split'",
     "output_type": "error",
     "traceback": [
      "\u001B[0;31m---------------------------------------------------------------------------\u001B[0m",
      "\u001B[0;31mAttributeError\u001B[0m                            Traceback (most recent call last)",
      "Input \u001B[0;32mIn [24]\u001B[0m, in \u001B[0;36m<module>\u001B[0;34m\u001B[0m\n\u001B[0;32m----> 1\u001B[0m data \u001B[38;5;241m=\u001B[39m \u001B[43mdataset_csv\u001B[49m\u001B[38;5;241;43m.\u001B[39;49m\u001B[43mPhoto_Name\u001B[49m\u001B[38;5;241;43m.\u001B[39;49m\u001B[43msplit\u001B[49m(\u001B[38;5;124m\"\u001B[39m\u001B[38;5;124m_\u001B[39m\u001B[38;5;124m\"\u001B[39m)\n",
      "File \u001B[0;32m~/Development/tensorflow-experiments/venv/lib/python3.9/site-packages/pandas/core/generic.py:5583\u001B[0m, in \u001B[0;36mNDFrame.__getattr__\u001B[0;34m(self, name)\u001B[0m\n\u001B[1;32m   5576\u001B[0m \u001B[38;5;28;01mif\u001B[39;00m (\n\u001B[1;32m   5577\u001B[0m     name \u001B[38;5;129;01mnot\u001B[39;00m \u001B[38;5;129;01min\u001B[39;00m \u001B[38;5;28mself\u001B[39m\u001B[38;5;241m.\u001B[39m_internal_names_set\n\u001B[1;32m   5578\u001B[0m     \u001B[38;5;129;01mand\u001B[39;00m name \u001B[38;5;129;01mnot\u001B[39;00m \u001B[38;5;129;01min\u001B[39;00m \u001B[38;5;28mself\u001B[39m\u001B[38;5;241m.\u001B[39m_metadata\n\u001B[1;32m   5579\u001B[0m     \u001B[38;5;129;01mand\u001B[39;00m name \u001B[38;5;129;01mnot\u001B[39;00m \u001B[38;5;129;01min\u001B[39;00m \u001B[38;5;28mself\u001B[39m\u001B[38;5;241m.\u001B[39m_accessors\n\u001B[1;32m   5580\u001B[0m     \u001B[38;5;129;01mand\u001B[39;00m \u001B[38;5;28mself\u001B[39m\u001B[38;5;241m.\u001B[39m_info_axis\u001B[38;5;241m.\u001B[39m_can_hold_identifiers_and_holds_name(name)\n\u001B[1;32m   5581\u001B[0m ):\n\u001B[1;32m   5582\u001B[0m     \u001B[38;5;28;01mreturn\u001B[39;00m \u001B[38;5;28mself\u001B[39m[name]\n\u001B[0;32m-> 5583\u001B[0m \u001B[38;5;28;01mreturn\u001B[39;00m \u001B[38;5;28;43mobject\u001B[39;49m\u001B[38;5;241;43m.\u001B[39;49m\u001B[38;5;21;43m__getattribute__\u001B[39;49m\u001B[43m(\u001B[49m\u001B[38;5;28;43mself\u001B[39;49m\u001B[43m,\u001B[49m\u001B[43m \u001B[49m\u001B[43mname\u001B[49m\u001B[43m)\u001B[49m\n",
      "\u001B[0;31mAttributeError\u001B[0m: 'Series' object has no attribute 'split'"
     ]
    }
   ],
   "source": [
    "data = dataset_csv.Photo_Name.split(\"_\")"
   ],
   "metadata": {
    "collapsed": false,
    "pycharm": {
     "name": "#%%\n"
    }
   }
  },
  {
   "cell_type": "code",
   "execution_count": 39,
   "outputs": [],
   "source": [
    "class Photo:\n",
    "\n",
    "    def __init__(self, name, stack):\n",
    "        self.name = name\n",
    "        tmp = name.split(\"_\")\n",
    "        self.id = tmp[1]\n",
    "        self.date = tmp[0]\n",
    "        self.stack = stack\n",
    "\n",
    "    def"
   ],
   "metadata": {
    "collapsed": false,
    "pycharm": {
     "name": "#%%\n"
    }
   }
  },
  {
   "cell_type": "code",
   "execution_count": 29,
   "outputs": [
    {
     "data": {
      "text/plain": "20120921_id1_maljuv (1)_ORIGINAL.JPG  0.399935  0.684297  0.435779  0.857753    0.661819\n20140710_id1_maljuv (2)_ORIGINAL.JPG  0.252156  0.297405  0.240076  0.631786    0.502942\n20150520_id1_malado (1)_ORIGINAL.JPG  0.535506  0.457890  0.539295  0.532288    0.585309\n20150520_id1_malado (2)_ORIGINAL.JPG  0.579065  0.424056  0.591723  0.510833    0.637155\n20150520_id1_malado (3)_ORIGINAL.JPG  0.504507  0.454239  0.516531  0.543082    0.563981\n                                                                                  ...   \n20201018_id56_femadu (2).jpg          0.405097  0.455739  0.384278  0.602554    0.625319\n20200117_id205_femjuv (3).jpg         0.484195  0.405032  0.504689  0.724726    0.697324\n20201216_id6076_feminf (2).JPG        0.511088  0.188521  0.438585  0.433317    0.817357\n20201017_id152_maladu (11).jpg        0.401273  0.415676  0.365064  0.690501    0.584490\n20201104_id188_malado (2).jpg         0.442500  0.228500  0.451417  0.642125    0.718250\nName: Photo_Name, Length: 23662, dtype: float64"
     },
     "execution_count": 29,
     "metadata": {},
     "output_type": "execute_result"
    }
   ],
   "source": [
    "for i in range(len(dataset_csv)):\n"
   ],
   "metadata": {
    "collapsed": false,
    "pycharm": {
     "name": "#%%\n"
    }
   }
  },
  {
   "cell_type": "code",
   "execution_count": null,
   "outputs": [],
   "source": [],
   "metadata": {
    "collapsed": false,
    "pycharm": {
     "name": "#%%\n"
    }
   }
  }
 ],
 "metadata": {
  "kernelspec": {
   "display_name": "Python 3",
   "language": "python",
   "name": "python3"
  },
  "language_info": {
   "codemirror_mode": {
    "name": "ipython",
    "version": 2
   },
   "file_extension": ".py",
   "mimetype": "text/x-python",
   "name": "python",
   "nbconvert_exporter": "python",
   "pygments_lexer": "ipython2",
   "version": "2.7.6"
  }
 },
 "nbformat": 4,
 "nbformat_minor": 0
}
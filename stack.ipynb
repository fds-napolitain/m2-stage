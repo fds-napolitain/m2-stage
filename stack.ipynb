{
 "cells": [
  {
   "cell_type": "code",
   "execution_count": 1,
   "metadata": {
    "collapsed": true
   },
   "outputs": [],
   "source": [
    "import pandas"
   ]
  },
  {
   "cell_type": "markdown",
   "source": [
    "# Parse CSV\n",
    "Ici on parse le fichier CSV et on calcule les distances de Mahalanobis entre chaque images de même"
   ],
   "metadata": {
    "collapsed": false,
    "pycharm": {
     "name": "#%% md\n"
    }
   }
  },
  {
   "cell_type": "code",
   "execution_count": 37,
   "outputs": [],
   "source": [
    "dataset_csv = pandas.read_csv(\"csv/MetaData_ALLdataset_2022.csv\", header=None, usecols=[0, 13], skiprows=1) # sans clé : on charge direct que la bonne colonne\n",
    "# dataset_csv = pandas.read_csv(\"csv/MetaData_ALLdataset_2022.csv\") # avec clés => ne fonctionne pas bien ?!"
   ],
   "metadata": {
    "collapsed": false,
    "pycharm": {
     "name": "#%%\n"
    }
   }
  },
  {
   "cell_type": "code",
   "execution_count": 38,
   "outputs": [
    {
     "data": {
      "text/plain": "                                         0  13\n0      20120921_id1_maljuv (1)_ORIGINAL.JPG  1\n1      20140710_id1_maljuv (2)_ORIGINAL.JPG  2\n2      20150520_id1_malado (1)_ORIGINAL.JPG  1\n3      20150520_id1_malado (2)_ORIGINAL.JPG  3\n4      20150520_id1_malado (3)_ORIGINAL.JPG  2\n...                                     ... ..\n23657          20201018_id56_femadu (2).jpg   \n23658         20200117_id205_femjuv (3).jpg   \n23659        20201216_id6076_feminf (2).JPG   \n23660        20201017_id152_maladu (11).jpg   \n23661         20201104_id188_malado (2).jpg   \n\n[23662 rows x 2 columns]",
      "text/html": "<div>\n<style scoped>\n    .dataframe tbody tr th:only-of-type {\n        vertical-align: middle;\n    }\n\n    .dataframe tbody tr th {\n        vertical-align: top;\n    }\n\n    .dataframe thead th {\n        text-align: right;\n    }\n</style>\n<table border=\"1\" class=\"dataframe\">\n  <thead>\n    <tr style=\"text-align: right;\">\n      <th></th>\n      <th>0</th>\n      <th>13</th>\n    </tr>\n  </thead>\n  <tbody>\n    <tr>\n      <th>0</th>\n      <td>20120921_id1_maljuv (1)_ORIGINAL.JPG</td>\n      <td>1</td>\n    </tr>\n    <tr>\n      <th>1</th>\n      <td>20140710_id1_maljuv (2)_ORIGINAL.JPG</td>\n      <td>2</td>\n    </tr>\n    <tr>\n      <th>2</th>\n      <td>20150520_id1_malado (1)_ORIGINAL.JPG</td>\n      <td>1</td>\n    </tr>\n    <tr>\n      <th>3</th>\n      <td>20150520_id1_malado (2)_ORIGINAL.JPG</td>\n      <td>3</td>\n    </tr>\n    <tr>\n      <th>4</th>\n      <td>20150520_id1_malado (3)_ORIGINAL.JPG</td>\n      <td>2</td>\n    </tr>\n    <tr>\n      <th>...</th>\n      <td>...</td>\n      <td>...</td>\n    </tr>\n    <tr>\n      <th>23657</th>\n      <td>20201018_id56_femadu (2).jpg</td>\n      <td></td>\n    </tr>\n    <tr>\n      <th>23658</th>\n      <td>20200117_id205_femjuv (3).jpg</td>\n      <td></td>\n    </tr>\n    <tr>\n      <th>23659</th>\n      <td>20201216_id6076_feminf (2).JPG</td>\n      <td></td>\n    </tr>\n    <tr>\n      <th>23660</th>\n      <td>20201017_id152_maladu (11).jpg</td>\n      <td></td>\n    </tr>\n    <tr>\n      <th>23661</th>\n      <td>20201104_id188_malado (2).jpg</td>\n      <td></td>\n    </tr>\n  </tbody>\n</table>\n<p>23662 rows × 2 columns</p>\n</div>"
     },
     "execution_count": 38,
     "metadata": {},
     "output_type": "execute_result"
    }
   ],
   "source": [
    "dataset_csv"
   ],
   "metadata": {
    "collapsed": false,
    "pycharm": {
     "name": "#%%\n"
    }
   }
  },
  {
   "cell_type": "code",
   "execution_count": 39,
   "outputs": [],
   "source": [
    "class Photo:\n",
    "\n",
    "    def __init__(self, name, stack):\n",
    "        self.name = name\n",
    "        tmp = name.split(\"_\")\n",
    "        self.id = tmp[1]\n",
    "        self.date = tmp[0]\n",
    "        self.stack = stack\n",
    "\n",
    "    def"
   ],
   "metadata": {
    "collapsed": false,
    "pycharm": {
     "name": "#%%\n"
    }
   }
  },
  {
   "cell_type": "code",
   "execution_count": 29,
   "outputs": [
    {
     "data": {
      "text/plain": "20120921_id1_maljuv (1)_ORIGINAL.JPG  0.399935  0.684297  0.435779  0.857753    0.661819\n20140710_id1_maljuv (2)_ORIGINAL.JPG  0.252156  0.297405  0.240076  0.631786    0.502942\n20150520_id1_malado (1)_ORIGINAL.JPG  0.535506  0.457890  0.539295  0.532288    0.585309\n20150520_id1_malado (2)_ORIGINAL.JPG  0.579065  0.424056  0.591723  0.510833    0.637155\n20150520_id1_malado (3)_ORIGINAL.JPG  0.504507  0.454239  0.516531  0.543082    0.563981\n                                                                                  ...   \n20201018_id56_femadu (2).jpg          0.405097  0.455739  0.384278  0.602554    0.625319\n20200117_id205_femjuv (3).jpg         0.484195  0.405032  0.504689  0.724726    0.697324\n20201216_id6076_feminf (2).JPG        0.511088  0.188521  0.438585  0.433317    0.817357\n20201017_id152_maladu (11).jpg        0.401273  0.415676  0.365064  0.690501    0.584490\n20201104_id188_malado (2).jpg         0.442500  0.228500  0.451417  0.642125    0.718250\nName: Photo_Name, Length: 23662, dtype: float64"
     },
     "execution_count": 29,
     "metadata": {},
     "output_type": "execute_result"
    }
   ],
   "source": [
    "for i in range(len(dataset_csv)):\n"
   ],
   "metadata": {
    "collapsed": false,
    "pycharm": {
     "name": "#%%\n"
    }
   }
  },
  {
   "cell_type": "code",
   "execution_count": null,
   "outputs": [],
   "source": [],
   "metadata": {
    "collapsed": false,
    "pycharm": {
     "name": "#%%\n"
    }
   }
  }
 ],
 "metadata": {
  "kernelspec": {
   "display_name": "Python 3",
   "language": "python",
   "name": "python3"
  },
  "language_info": {
   "codemirror_mode": {
    "name": "ipython",
    "version": 2
   },
   "file_extension": ".py",
   "mimetype": "text/x-python",
   "name": "python",
   "nbconvert_exporter": "python",
   "pygments_lexer": "ipython2",
   "version": "2.7.6"
  }
 },
 "nbformat": 4,
 "nbformat_minor": 0
}